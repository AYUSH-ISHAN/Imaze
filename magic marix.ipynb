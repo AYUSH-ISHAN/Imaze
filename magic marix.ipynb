{
 "cells": [
  {
   "cell_type": "code",
   "execution_count": 6,
   "metadata": {},
   "outputs": [],
   "source": [
    "import numpy as np\n",
    "\n",
    "magic = np.matrix('2 7 6;9 5 1;4 3 8')\n",
    "print(magic)"
   ]
  },
  {
   "cell_type": "code",
   "execution_count": 7,
   "metadata": {},
   "outputs": [],
   "source": [
    "from math import *\n",
    "for i in range(int(sqrt(magic.size))):\n",
    "    a = magic[i,:]\n",
    "    b = magic[:,i]\n",
    "    col = a.sum()\n",
    "    row = b.sum()\n",
    "    "
   ]
  },
  {
   "cell_type": "code",
   "execution_count": 8,
   "metadata": {},
   "outputs": [],
   "source": [
    "# for secondary diagonal :\n",
    "j = int(sqrt(magic.size))\n",
    "sum = 0\n",
    "for i in range(0,j):\n",
    "    sum += magic.item(i,j-1-i)"
   ]
  },
  {
   "cell_type": "code",
   "execution_count": 9,
   "metadata": {},
   "outputs": [
    {
     "name": "stdout",
     "output_type": "stream",
     "text": [
      "Yes\n",
      "15\n"
     ]
    }
   ],
   "source": [
    "dia = magic.diagonal()\n",
    "if dia.sum() == col and dia.sum() == row and row == col and col == sum:\n",
    "    print('Yes')\n",
    "    print(sum)\n",
    "else:\n",
    "    print('No')"
   ]
  },
  {
   "cell_type": "code",
   "execution_count": null,
   "metadata": {},
   "outputs": [],
   "source": []
  }
 ],
 "metadata": {
  "kernelspec": {
   "display_name": "Python 3",
   "language": "python",
   "name": "python3"
  },
  "language_info": {
   "codemirror_mode": {
    "name": "ipython",
    "version": 3
   },
   "file_extension": ".py",
   "mimetype": "text/x-python",
   "name": "python",
   "nbconvert_exporter": "python",
   "pygments_lexer": "ipython3",
   "version": "3.8.3"
  }
 },
 "nbformat": 4,
 "nbformat_minor": 4
}
